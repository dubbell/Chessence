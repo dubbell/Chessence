{
 "cells": [
  {
   "cell_type": "code",
   "execution_count": 1,
   "metadata": {},
   "outputs": [],
   "source": [
    "import numpy as np\n",
    "import pandas as pd\n",
    "import matplotlib.pyplot as plt\n",
    "\n",
    "import itertools\n",
    "\n",
    "from chessgame import ChessGame"
   ]
  },
  {
   "cell_type": "code",
   "execution_count": 23,
   "metadata": {},
   "outputs": [
    {
     "name": "stdout",
     "output_type": "stream",
     "text": [
      "['id_game', 'moves', 'date', 'white_player', 'id_white_player', 'black_player', 'id_black_player', 'white_elo', 'black_elo', 'avg_elo', 'event', 'site', 'eco', 'opening', 'id_opening', 'round', 'result', 'n_moves', 'id_download']\n"
     ]
    }
   ],
   "source": [
    "games = pd.read_csv(\"data/games_chesstempo.csv\")\n",
    "games = games[np.logical_and(games[\"white_elo\"] > 2500, games[\"black_elo\"] > 2500)]\n",
    "print(list(games.columns))"
   ]
  },
  {
   "cell_type": "code",
   "execution_count": 36,
   "metadata": {},
   "outputs": [
    {
     "name": "stdout",
     "output_type": "stream",
     "text": [
      "1.e4 e5 2.Nf3 Nc6 3.Bc4 Bc5 4.c3 Nf6 5.d4 exd4 6.e5 d5 7.Bb5 Ne4 8.cxd4 Bb6 9.Nc3 O-O 10.Be3 Bf5 11.O-O Na5 12.Rc1 Bg6 13.Ne2 c6 14.Bd3 Qe7 15.a3 Rad8 16.Nf4 Bf5 17.Re1 Bg4 18.h3 Bxf3 19.gxf3 Ng5 20.Nh5 Nc4 21.Bb1 Nxe3 22.fxe3 f6 23.exf6 gxf6 24.Bf5 Kh8 25.Kf2 Rg8 26.Qd3 c5 27.dxc5 Bxc5 28.h4 d4 29.exd4 Qd6 30.Rxc5 Qh2+ 31.Ke3 Rde8+ 32.Be4 Nxf3 33.Qe2 Rxe4+ 34.Kxe4 Re8+ 35.Kxf3 Qh3+ 36.Ng3 \n",
      "['e4', 'e5', 'Nf3', 'Nc6', 'Bc4', 'Bc5', 'c3', 'Nf6', 'd4', 'exd4', 'e5', 'd5', 'Bb5', 'Ne4', 'cxd4', 'Bb6', 'Nc3', 'O-O', 'Be3', 'Bf5', 'O-O', 'Na5', 'Rc1', 'Bg6', 'Ne2', 'c6', 'Bd3', 'Qe7', 'a3', 'Rad8', 'Nf4', 'Bf5', 'Re1', 'Bg4', 'h3', 'Bxf3', 'gxf3', 'Ng5', 'Nh5', 'Nc4', 'Bb1', 'Nxe3', 'fxe3', 'f6', 'exf6', 'gxf6', 'Bf5', 'Kh8', 'Kf2', 'Rg8', 'Qd3', 'c5', 'dxc5', 'Bxc5', 'h4', 'd4', 'exd4', 'Qd6', 'Rxc5', 'Qh2+', 'Ke3', 'Rde8+', 'Be4', 'Nxf3', 'Qe2', 'Rxe4+', 'Kxe4', 'Re8+', 'Kxf3', 'Qh3+', 'Ng3', '']\n"
     ]
    }
   ],
   "source": [
    "game_string = games[\"moves\"][0]\n",
    "moves = game_string.split(\" \")\n",
    "print(game_string)\n",
    "for i in range(0, len(moves), 2):\n",
    "    moves[i] = moves[i][moves[i].index(\".\") + 1:]\n",
    "\n",
    "print(moves)"
   ]
  },
  {
   "cell_type": "code",
   "execution_count": 43,
   "metadata": {},
   "outputs": [
    {
     "data": {
      "text/plain": [
       "<matplotlib.image.AxesImage at 0x19ec2873bf0>"
      ]
     },
     "execution_count": 43,
     "metadata": {},
     "output_type": "execute_result"
    },
    {
     "data": {
      "image/png": "[encoded data removed]",
      "text/plain": [
       "<Figure size 640x480 with 1 Axes>"
      ]
     },
     "metadata": {},
     "output_type": "display_data"
    }
   ],
   "source": [
    "KNIGHT_DIFFS = np.array(\n",
    "    [(rank_diff * rank_sign, file_diff * file_sign)\n",
    "     for rank_diff, file_diff in [(1, 2), (2, 1)]\n",
    "     for rank_sign in [-1, 1]\n",
    "     for file_sign in [-1, 1]])\n",
    "\n",
    "img = np.zeros((8, 8))\n",
    "\n",
    "for rank, file in np.array([2, 2]) + KNIGHT_DIFFS:\n",
    "    img[rank, file] = 1\n",
    "\n",
    "plt.imshow(img)"
   ]
  },
  {
   "cell_type": "code",
   "execution_count": 48,
   "metadata": {},
   "outputs": [
    {
     "name": "stdout",
     "output_type": "stream",
     "text": [
      "[[-1 -1]\n",
      " [-1  1]\n",
      " [ 1 -1]\n",
      " [ 1  1]]\n",
      "[[-1 -1]\n",
      " [-1  1]\n",
      " [ 1 -1]\n",
      " [ 1  1]\n",
      " [ 0 -1]\n",
      " [-1  0]\n",
      " [ 0  1]\n",
      " [ 1  0]]\n"
     ]
    }
   ],
   "source": [
    "DIAGONAL_DIRS = np.array(\n",
    "    [(rank_diff, file_diff)\n",
    "     for rank_diff in [-1, 1]\n",
    "     for file_diff in [-1, 1]])\n",
    "\n",
    "LATERAL_DIRS = np.array(\n",
    "    [(rank_diff, file_diff) \n",
    "     for rank_diff, file_diff in zip([0, -1, 0, 1], [-1, 0, 1, 0])])\n",
    "\n",
    "print(DIAGONAL_DIRS)\n",
    "\n",
    "print(np.vstack((DIAGONAL_DIRS, LATERAL_DIRS)))"
   ]
  },
  {
   "cell_type": "code",
   "execution_count": 51,
   "metadata": {},
   "outputs": [
    {
     "name": "stdout",
     "output_type": "stream",
     "text": [
      "[[3 4 5]\n",
      " [6 7 8]]\n"
     ]
    }
   ],
   "source": [
    "test = np.arange(9).reshape((3, 3))\n",
    "print(test[[1, 2]])"
   ]
  }
 ],
 "metadata": {
  "kernelspec": {
   "display_name": "main",
   "language": "python",
   "name": "python3"
  },
  "language_info": {
   "codemirror_mode": {
    "name": "ipython",
    "version": 3
   },
   "file_extension": ".py",
   "mimetype": "text/x-python",
   "name": "python",
   "nbconvert_exporter": "python",
   "pygments_lexer": "ipython3",
   "version": "3.12.3"
  }
 },
 "nbformat": 4,
 "nbformat_minor": 2
}
